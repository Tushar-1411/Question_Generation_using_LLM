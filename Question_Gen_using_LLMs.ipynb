{
  "cells": [
    {
      "cell_type": "code",
      "execution_count": 8,
      "id": "3311cda3",
      "metadata": {
        "id": "3311cda3"
      },
      "outputs": [],
      "source": [
        "import os\n",
        "from langchain.text_splitter import RecursiveCharacterTextSplitter\n",
        "from langchain.chains.summarize import load_summarize_chain\n",
        "from langchain.prompts import PromptTemplate\n",
        "from langchain_community.document_loaders import PyPDFLoader\n",
        "from langchain_community.llms import HuggingFaceHub\n",
        "from langchain_google_genai import GoogleGenerativeAI"
      ]
    },
    {
      "cell_type": "code",
      "execution_count": 1,
      "id": "db29dbef",
      "metadata": {},
      "outputs": [
        {
          "data": {
            "text/plain": [
              "True"
            ]
          },
          "execution_count": 1,
          "metadata": {},
          "output_type": "execute_result"
        }
      ],
      "source": [
        "from dotenv import load_dotenv\n",
        "load_dotenv()"
      ]
    },
    {
      "cell_type": "code",
      "execution_count": 10,
      "id": "e003e2e4",
      "metadata": {},
      "outputs": [
        {
          "name": "stdout",
          "output_type": "stream",
          "text": [
            "## **Pros of Python**\n",
            "\n",
            "* **Easy to learn:** Python is a relatively easy language to learn, especially for those with experience in other programming languages. The syntax is simple and straightforward, and there are a number of resources available to help you get started.\n",
            "* **Versatile:** Python can be used for a wide variety of tasks, including web development, data science, and machine learning. This versatility makes it a good choice for developers who want to work in a variety of fields.\n",
            "* **Open source:** Python is an open source language, which means that it is free to use and modify. This can be a major advantage for developers who want to be able to customize the language to their specific needs.\n",
            "* **Large community:** Python has a large and active community of developers who are constantly creating new libraries and tools. This can be a valuable resource for developers who are looking for help or inspiration.\n",
            "\n",
            "## **Cons of Python**\n",
            "\n",
            "* **Performance:** Python is not as fast as some other programming languages, such as C++ or Java. This can be a problem for developers who need to create high-performance applications.\n",
            "* **Interpreted language:** Python is an interpreted language, which means that it is slower than compiled languages. This is because the code is not compiled into machine code before it is executed.\n",
            "* **Dynamic typing:** Python is a dynamically typed language, which means that the type of a variable can change during runtime. This can be a source of errors for developers who are not careful.\n",
            "\n",
            "## **Overall**\n",
            "\n",
            "Python is a powerful and versatile programming language that is easy to learn and use. It is a good choice for developers who want to work in a variety of fields, and who are willing to trade some performance for the ease of use and versatility that Python offers.\n"
          ]
        }
      ],
      "source": [
        "llm = GoogleGenerativeAI(model=\"models/text-bison-001\")\n",
        "print(\n",
        "    llm.invoke(\n",
        "        \"What are some of the pros and cons of Python as a programming language?\"\n",
        "    )\n",
        ")"
      ]
    },
    {
      "cell_type": "code",
      "execution_count": 11,
      "id": "61a563bb",
      "metadata": {
        "id": "61a563bb"
      },
      "outputs": [],
      "source": [
        "# First we make our text splitter\n",
        "text_splitter = RecursiveCharacterTextSplitter(chunk_size=2000, chunk_overlap=100)"
      ]
    },
    {
      "cell_type": "code",
      "execution_count": 12,
      "id": "cd7044c3",
      "metadata": {},
      "outputs": [],
      "source": [
        "unit1 = \"Data/UNIT-1.pdf\"\n",
        "unit2 = \"Data/UNIT-II.pdf\"\n",
        "unit3 = \"Data/UNIT III.pdf\"\n",
        "unit4 = \"Data/UNIT IV.pdf\"\n",
        "unit5 = \"Data/UNIT-V.pdf\""
      ]
    },
    {
      "cell_type": "code",
      "execution_count": 13,
      "id": "BJuh-1R1lnLP",
      "metadata": {
        "colab": {
          "base_uri": "https://localhost:8080/"
        },
        "id": "BJuh-1R1lnLP",
        "outputId": "1d5ffb93-4c81-4c32-c01e-42534a3a48c3"
      },
      "outputs": [
        {
          "data": {
            "text/plain": [
              "11"
            ]
          },
          "execution_count": 13,
          "metadata": {},
          "output_type": "execute_result"
        }
      ],
      "source": [
        "loader = PyPDFLoader(unit1)\n",
        "pages = loader.load_and_split()\n",
        "len(pages)"
      ]
    },
    {
      "cell_type": "code",
      "execution_count": 14,
      "id": "4nv9pG-WmDbx",
      "metadata": {
        "colab": {
          "base_uri": "https://localhost:8080/",
          "height": 157
        },
        "id": "4nv9pG-WmDbx",
        "outputId": "0743a6c8-9c12-4672-ceee-ab4fe7f289b7"
      },
      "outputs": [
        {
          "data": {
            "text/plain": [
              "'CS8791: Cloud Computing  Department of CSE   \\nKCG College of Technology   1  \\n CS8791  CLOUD  COMPUTING  L T  P C \\n3 0 0  3 \\nUNIT I INTRODUCTION (9)  \\nIntroduction to Cloud Computing – Definition of Cloud – Evolution of Cloud Computing – \\nUnderlying Principles of Parallel and Distributed Computing – Cloud Characteristics – Elasticity \\nin Cloud – On- demand Provisioning.  \\n \\n \\nCloud computing consists of three distinct types of computing services delivered remotely to \\nclients via the internet. Clients typically pay a monthly or annual service fee to providers, to gain \\naccess to systems that deliver software as a service, platforms as a service and infrastructure as a \\nservice to subscribers . Cloud Computing is the delivery of computing services such as servers, \\nstorage, databases, networking, software, analytics, intelligence, and more, over the Cloud.  \\n \\nA Brief History of Cloud Computing  \\nWhen we think of the cloud, rarely do we cast our minds back to times before the 21stcentury. \\nAfter all, it’s really just been over the past decade or so that cloud computing really started to \\ndevelop into the giant, omnipresent and all -powerful behemoth we know today. But the truth is \\nthat concepts of the cloud have existed for many, many years, and in fact can be traced as far back \\nas the 1950s with mainframe computing. In those early days, mainframe computers were huge \\nmachines, and very, very expensive – too expensive to buy and maintain one for  every single \\nemployee. And of course, not every single employee needed access to one at all times like they  do \\ntoday.  As such,  most  organizations  would  purchase  just one or two machines,  and then'"
            ]
          },
          "execution_count": 14,
          "metadata": {},
          "output_type": "execute_result"
        }
      ],
      "source": [
        "pages[0].page_content"
      ]
    },
    {
      "cell_type": "code",
      "execution_count": 15,
      "id": "4e98c609",
      "metadata": {
        "id": "4e98c609"
      },
      "outputs": [],
      "source": [
        "# Then we split our user information into different documents\n",
        "docs = text_splitter.split_documents(pages)"
      ]
    },
    {
      "cell_type": "code",
      "execution_count": 16,
      "id": "e2c6799e",
      "metadata": {
        "colab": {
          "base_uri": "https://localhost:8080/"
        },
        "id": "e2c6799e",
        "outputId": "24518ad1-00fb-488f-ee50-b1ed891b446c"
      },
      "outputs": [
        {
          "data": {
            "text/plain": [
              "17"
            ]
          },
          "execution_count": 16,
          "metadata": {},
          "output_type": "execute_result"
        }
      ],
      "source": [
        "# Let's see how many documents we created\n",
        "len(docs)"
      ]
    },
    {
      "cell_type": "markdown",
      "id": "2c2d766c",
      "metadata": {
        "id": "2c2d766c"
      },
      "source": [
        "Because we have a special requset for the LLM on our data, I want to make custom prompts. This will allow me to tinker with what data the LLM pulls out. I'll use Langchain's `load_summarize_chain` with custom prompts to do this. We aren't making a summary, but rather just using `load_summarize_chain` for its easy mapreduce functionality.\n",
        "\n",
        "First let's make our custom map prompt. This is where we'll instruction the LLM that it will pull out interview questoins and what makes a good question."
      ]
    },
    {
      "cell_type": "code",
      "execution_count": 17,
      "id": "835c6cd7",
      "metadata": {
        "id": "835c6cd7"
      },
      "outputs": [],
      "source": [
        "map_prompt = \"\"\"You are a helpful AI bot that aids a teacher in question selection for standardized tests.\n",
        "Below is information about the chapter.\n",
        "Information will include contents about the chapter that a student is taught by a teacher.\n",
        "Your goal is to generate question which can be asked to a student learning this chapter in a test.\n",
        "\n",
        "% START OF INFORMATION ABOUT chapter:\n",
        "{text}\n",
        "% END OF INFORMATION ABOUT chapter:\n",
        "\n",
        "Please respond with list of a few questions based on the topics above\n",
        "\n",
        "YOUR RESPONSE:\"\"\"\n",
        "map_prompt_template = PromptTemplate(template=map_prompt, input_variables=[\"text\"])"
      ]
    },
    {
      "cell_type": "markdown",
      "id": "48ef7a88",
      "metadata": {
        "id": "48ef7a88"
      },
      "source": [
        "Then we'll make our custom combine promopt. This is the set of instructions that we'll LLM on how to handle the list of questions that is returned in the first step above."
      ]
    },
    {
      "cell_type": "code",
      "execution_count": 18,
      "id": "f09dee43",
      "metadata": {
        "id": "f09dee43"
      },
      "outputs": [],
      "source": [
        "combine_prompt = \"\"\"\n",
        "You are a helpful AI bot that aids a teacher in question selection for standardized tests.\n",
        "You will be given a list of potential questions that we can ask students.\n",
        "\n",
        "Please consolidate the questions and return a list of questions.\n",
        "\n",
        "% QUESTIONS\n",
        "{text}\n",
        "\"\"\"\n",
        "combine_prompt_template = PromptTemplate(template=combine_prompt, input_variables=[\"text\"])"
      ]
    },
    {
      "cell_type": "markdown",
      "id": "7d58ea84",
      "metadata": {
        "id": "7d58ea84"
      },
      "source": [
        "Let's create our LLM and chain. I'm increasing the color a bit for more creative language. If you notice that your questions have hallucinations in them, turn temperature to 0"
      ]
    },
    {
      "cell_type": "code",
      "execution_count": 19,
      "id": "69910f9c",
      "metadata": {},
      "outputs": [],
      "source": [
        "# llm = HuggingFaceHub(\n",
        "#     repo_id=\"HuggingFaceH4/zephyr-7b-beta\",\n",
        "#     task=\"text-generation\",\n",
        "#     model_kwargs={\n",
        "#         \"temperature\": 0.1,\n",
        "#         \"repetition_penalty\": 1.03,\n",
        "#     },\n",
        "# )\n",
        "\n",
        "#llm = ChatOpenAI(temperature=.25, openai_api_key = openai_api_key)\n",
        "\n",
        "chain = load_summarize_chain(llm,\n",
        "                             chain_type=\"map_reduce\",\n",
        "                             map_prompt=map_prompt_template,\n",
        "                             combine_prompt=combine_prompt_template,\n",
        "#                              verbose=True\n",
        "                            )"
      ]
    },
    {
      "cell_type": "code",
      "execution_count": 20,
      "id": "9cde3021",
      "metadata": {
        "id": "9cde3021",
        "outputId": "e79ef001-c616-4165-b1a1-00d1ef13a72f"
      },
      "outputs": [
        {
          "name": "stderr",
          "output_type": "stream",
          "text": [
            "c:\\Users\\Tushar\\OneDrive\\Desktop\\langchain\\langchain\\lib\\site-packages\\langchain_core\\_api\\deprecation.py:117: LangChainDeprecationWarning: The function `__call__` was deprecated in LangChain 0.1.0 and will be removed in 0.2.0. Use invoke instead.\n",
            "  warn_deprecated(\n"
          ]
        }
      ],
      "source": [
        "output = chain({\"input_documents\": docs})"
      ]
    },
    {
      "cell_type": "code",
      "execution_count": 21,
      "id": "b4f49991",
      "metadata": {
        "id": "b4f49991",
        "outputId": "eb4dc7c6-05b9-42a7-8014-515057c94c46"
      },
      "outputs": [
        {
          "name": "stdout",
          "output_type": "stream",
          "text": [
            "\n",
            "1. What is cloud computing?\n",
            "2. What are the three main types of cloud computing?\n",
            "3. What are the benefits of cloud computing?\n",
            "4. What are the challenges of cloud computing?\n",
            "5. What are the different cloud providers?\n",
            "6. How do you choose a cloud provider?\n",
            "7. How do you migrate to the cloud?\n",
            "8. What are the future trends in cloud computing?\n",
            "9. What is the difference between cloud computing and grid computing?\n",
            "10. What is the difference between cloud computing and distributed computing?\n",
            "\n",
            "1. What is cloud computing?\n",
            "2. What are the benefits of cloud computing?\n",
            "3. What are the challenges of cloud computing?\n",
            "4. What are the different types of cloud computing?\n",
            "5. What are the different cloud providers?\n",
            "6. How do you choose a cloud provider?\n",
            "7. How do you migrate to the cloud?\n",
            "8. What are the future trends in cloud computing?\n",
            "9. What are the different security challenges of cloud computing?\n",
            "10. What are the different compliance challenges of cloud computing?\n"
          ]
        }
      ],
      "source": [
        "print (output['output_text'])"
      ]
    },
    {
      "cell_type": "code",
      "execution_count": null,
      "id": "01370244",
      "metadata": {},
      "outputs": [],
      "source": []
    }
  ],
  "metadata": {
    "colab": {
      "provenance": []
    },
    "kernelspec": {
      "display_name": "Python 3 (ipykernel)",
      "language": "python",
      "name": "python3"
    },
    "language_info": {
      "codemirror_mode": {
        "name": "ipython",
        "version": 3
      },
      "file_extension": ".py",
      "mimetype": "text/x-python",
      "name": "python",
      "nbconvert_exporter": "python",
      "pygments_lexer": "ipython3",
      "version": "3.9.18"
    }
  },
  "nbformat": 4,
  "nbformat_minor": 5
}
